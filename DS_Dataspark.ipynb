{
 "cells": [
  {
   "cell_type": "code",
   "execution_count": 1,
   "id": "6933d994-5ec5-4f27-a55e-47a0a6aeee00",
   "metadata": {},
   "outputs": [],
   "source": [
    "def Sql_Connect(df,name):\n",
    "    myconnection = pymysql.connect(host='127.0.0.1',user='root',passwd='Mainboot@1')\n",
    "    df = df.fillna(\"None\")\n",
    "    col = [i.replace(\" \",\"_\") for i in df.columns]\n",
    "    columns = \",\".join(f\"{i} {j}\"\n",
    "    for i,j in zip(col,df.dtypes)).replace(\"float64\",\"float\").replace(\"category\",\"text\").replace(\"int64\",\"int\").replace(\"object\",\"text\").replace(\"datetime64[ns]\",\"Date\")\n",
    "    columns\n",
    "    table_name= name\n",
    "    myconnection.cursor().execute(f\"create table DS_Dataspark.{table_name}({columns})\")\n",
    "    for i in range(len(df)):\n",
    "        myconnection.cursor().execute(f\"insert into DS_Dataspark.{table_name} values {tuple(df.iloc[i])}\")\n",
    "        myconnection.commit()\n",
    "    myconnection.close()"
   ]
  },
  {
   "cell_type": "code",
   "execution_count": 3,
   "id": "82f85aac-e5f6-409e-a2c5-8dad935b022b",
   "metadata": {},
   "outputs": [],
   "source": [
    "import pandas as pd\n",
    "import pymysql\n",
    "\n",
    "myconnection = pymysql.connect(host='127.0.0.1',user='root',passwd='Mainboot@1')\n",
    "myconnection.cursor().execute(\"Create Database DS_Dataspark\")\n",
    "myconnection.commit()\n",
    "myconnection.close()\n",
    "\n",
    "Stores = pd.read_csv(\"C:/Users/Sathiaseelan/Downloads/DataSet-20241129T132022Z-001/DataSet/Stores.csv\")\n",
    "Stores[\"Open Date\"] = pd.to_datetime(Stores['Open Date'], format = 'mixed')\n",
    "Sql_Connect(Stores,\"Stores\")\n",
    "\n",
    "Sales = pd.read_csv(\"C:/Users/Sathiaseelan/Downloads/DataSet-20241129T132022Z-001/DataSet/Sales.csv\")\n",
    "Sales[\"Order Date\"] = pd.to_datetime(Sales['Order Date'], format = 'mixed')\n",
    "Sales[\"Delivery Date\"] = pd.to_datetime(Sales[\"Delivery Date\"], format = 'mixed')\n",
    "Sql_Connect(Sales,\"Sales\")\n",
    "\n",
    "Products = pd.read_csv(\"C:/Users/Sathiaseelan/Downloads/DataSet-20241129T132022Z-001/DataSet/Products.csv\")\n",
    "Products['Unit Cost USD'] = Products['Unit Cost USD'].replace({'\\\\$': '',',':''}, regex=True).astype(float)\n",
    "Products['Unit Price USD'] = Products['Unit Price USD'].replace({'\\\\$': '',',':''}, regex=True).astype(float)\n",
    "Sql_Connect(Products,\"Products\")\n",
    "\n",
    "Customers = pd.read_csv(\"C:/Users/Sathiaseelan/Downloads/DataSet-20241129T132022Z-001/DataSet/Customers.csv\")\n",
    "Customers[\"Birthday\"] = pd.to_datetime(Customers['Birthday'], format = 'mixed')\n",
    "Sql_Connect(Customers,\"Customers\")\n",
    "\n",
    "Exchange = pd.read_csv(\"C:/Users/Sathiaseelan/Downloads/DataSet-20241129T132022Z-001/DataSet/Exchange_Rates.csv\")\n",
    "Exchange[\"Date\"] = pd.to_datetime(Exchange['Date'], format = 'mixed')\n",
    "Sql_Connect(Exchange,\"Exchange\")"
   ]
  }
 ],
 "metadata": {
  "kernelspec": {
   "display_name": "Python 3 (ipykernel)",
   "language": "python",
   "name": "python3"
  },
  "language_info": {
   "codemirror_mode": {
    "name": "ipython",
    "version": 3
   },
   "file_extension": ".py",
   "mimetype": "text/x-python",
   "name": "python",
   "nbconvert_exporter": "python",
   "pygments_lexer": "ipython3",
   "version": "3.12.7"
  }
 },
 "nbformat": 4,
 "nbformat_minor": 5
}
